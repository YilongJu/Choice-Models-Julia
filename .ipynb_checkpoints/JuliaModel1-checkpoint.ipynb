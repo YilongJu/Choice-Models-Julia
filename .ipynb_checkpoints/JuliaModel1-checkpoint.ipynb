{
 "cells": [
  {
   "cell_type": "markdown",
   "metadata": {},
   "source": [
    "# Read Data"
   ]
  },
  {
   "cell_type": "code",
   "execution_count": 872,
   "metadata": {},
   "outputs": [],
   "source": [
    "using DataFrames\n",
    "using CSV\n",
    "using Compat\n",
    "using Query\n",
    "using Base.Broadcast\n",
    "using Random\n",
    "using Statistics\n",
    "using Dates"
   ]
  },
  {
   "cell_type": "markdown",
   "metadata": {},
   "source": [
    "## T3 Data"
   ]
  },
  {
   "cell_type": "code",
   "execution_count": 731,
   "metadata": {},
   "outputs": [
    {
     "name": "stdout",
     "output_type": "stream",
     "text": [
      "1.0e-6\n"
     ]
    }
   ],
   "source": [
    "buffer = 1e-6\n",
    "println(buffer)"
   ]
  },
  {
   "cell_type": "code",
   "execution_count": 732,
   "metadata": {
    "scrolled": true
   },
   "outputs": [
    {
     "name": "stdout",
     "output_type": "stream",
     "text": [
      "Data loaded.\n"
     ]
    }
   ],
   "source": [
    "T3_test = CSV.read(\"Data/d5_test.csv\")\n",
    "d5 = CSV.read(\"Data/d5.csv\")\n",
    "d5_test = CSV.read(\"Data/d5_test.csv\")\n",
    "d9 = CSV.read(\"Data/d9.csv\")\n",
    "d9_test = CSV.read(\"Data/d9_test.csv\")\n",
    "imbaData = CSV.read(\"Data/imbaData.csv\")\n",
    "imbaData_test = CSV.read(\"Data/imbaData_test.csv\")\n",
    "wideBensonData = CSV.read(\"Data/wideBensonData.csv\")\n",
    "wideBensonData_test = CSV.read(\"Data/wideBensonData_test.csv\")\n",
    "patho5 = CSV.read(\"Data/patho5.csv\")\n",
    "patho5_test = CSV.read(\"Data/patho5_test.csv\")\n",
    "pathoSmall = CSV.read(\"Data/pathoSmall.csv\")\n",
    "pathoSmall_test = CSV.read(\"Data/pathoSmall_test.csv\")\n",
    "patho1M = CSV.read(\"Data/patho1M.csv\")\n",
    "patho1M_test = CSV.read(\"Data/patho1M_test.csv\")\n",
    "SFworkData = CSV.read(\"Data/SFworkData.csv\")\n",
    "SFwork_test = CSV.read(\"Data/SFwork_test.csv\")\n",
    "SFwork_train = CSV.read(\"Data/SFwork_train.csv\")\n",
    "sportFishingData = CSV.read(\"Data/sportFishingData.csv\")\n",
    "sportFishingData_test = CSV.read(\"Data/sportFishingData_test.csv\")\n",
    "println(\"Data loaded.\")"
   ]
  },
  {
   "cell_type": "code",
   "execution_count": 733,
   "metadata": {},
   "outputs": [
    {
     "data": {
      "text/plain": [
       "3-element Array{Array{T,1} where T,1}:\n",
       " [\"A\"]                                                   \n",
       " [\"B\"]                                                   \n",
       " Array{T,1} where T[[\"C\"], Array{String,1}[[\"D\"], [\"E\"]]]"
      ]
     },
     "execution_count": 733,
     "metadata": {},
     "output_type": "execute_result"
    }
   ],
   "source": [
    "items5 = [[\"A\"], [\"B\"], [\"C\"], [\"D\"], [\"E\"]]\n",
    "items9 = [[\"A\"], [\"B\"], [\"C\"], [\"D\"], [\"E\"], [\"F\"], [\"G\"], [\"H\"], [\"I\"]]\n",
    "imbaItems = [[\"A\"], [\"B\"], [\"C\"], [\"D\"], [\"E\"], [\"F\"], [\"G\"], [\"H\"], [\"I\"]]\n",
    "wideBensonItems = [[\"A\"], [\"B\"], [\"C\"], [\"D\"], [\"E\"], [\"F\"], [\"G\"], [\n",
    "    \"H\"], [\"I\"], [\"J\"], [\"K\"], [\"L\"], [\"M\"], [\"N\"], [\"O\"], [\"P\"], [\"Q\"]]\n",
    "patho5Items = [[\"1\"], [\"2\"], [\"3\"], [\"4\"], [\"5\"]]\n",
    "pathoSmallItems = [[\"1\"], [\"2\"], [\"3\"], [\"4\"], [\"5\"], [\"6\"], [\"7\"], [\"8\"], [\"9\"]]\n",
    "items_elem = [string(k) for k in 1:50]\n",
    "patho1MItems = [[k] for k in items_elem]\n",
    "SFworkItems = [[\"DriveAlone\"], [\"SharedRide(2)\"], [\"SharedRide(3+)\"], [\"Transit\"], [\"Bike\"], [\"Walk\"]]\n",
    "sportFishingItems = [[\"No\"], [\"SmKA\"], [\"SmKB\"], [\"SmRA\"], [\"SmRB\"], [\"SmSA\"], [\"SmSB\"], [\"SmPA\"], [\"SmPB\"], [\"FRA\"], [\"FRB\"], [\"FDA\"], [\"FDB\"], [\"FLA\"], [\"FLB\"], [\"FGA\"], [\"FGB\"], [\"FOA\"], [\"FOB\"], [\"SwHA\"], [\"SwHB\"], [\"SwRA\"], [\"SwRB\"], [\"SwOA\"], [\"SwOB\"], [\"NA\"], [\"NB\"]]\n",
    "\n",
    "items5_1 = [[\"A\"], [\"B\"], [\"C\"], [[\"D\"], [\"E\"]]]\n",
    "items5_2 = [[\"A\"], [\"B\"], [[\"C\"], [[\"D\"], [\"E\"]]]]"
   ]
  },
  {
   "cell_type": "code",
   "execution_count": 734,
   "metadata": {},
   "outputs": [
    {
     "data": {
      "text/plain": [
       "verboseprint (generic function with 1 method)"
      ]
     },
     "execution_count": 734,
     "metadata": {},
     "output_type": "execute_result"
    }
   ],
   "source": [
    "verbose = true\n",
    "# verbose = false\n",
    "verboseprint(x) = verbose ? println(x) : println(\"\")"
   ]
  },
  {
   "cell_type": "code",
   "execution_count": 735,
   "metadata": {},
   "outputs": [
    {
     "data": {
      "text/plain": [
       "flatten_all (generic function with 1 method)"
      ]
     },
     "execution_count": 735,
     "metadata": {},
     "output_type": "execute_result"
    }
   ],
   "source": [
    "function flatten_all(a::AbstractArray)\n",
    "    while any(x -> typeof(x) <: AbstractArray, a)\n",
    "        a = collect(Compat.Iterators.flatten(a))\n",
    "    end\n",
    "    return a\n",
    "end"
   ]
  },
  {
   "cell_type": "code",
   "execution_count": 736,
   "metadata": {},
   "outputs": [
    {
     "data": {
      "text/plain": [
       "flatten_all! (generic function with 1 method)"
      ]
     },
     "execution_count": 736,
     "metadata": {},
     "output_type": "execute_result"
    }
   ],
   "source": [
    "function flatten_all!(a::AbstractArray)\n",
    "    while any(x -> typeof(x) <: AbstractArray, a)\n",
    "        a = collect(Compat.Iterators.flatten(a))\n",
    "    end\n",
    "    return\n",
    "end"
   ]
  },
  {
   "cell_type": "code",
   "execution_count": 737,
   "metadata": {},
   "outputs": [
    {
     "data": {
      "text/plain": [
       "does_exist (generic function with 1 method)"
      ]
     },
     "execution_count": 737,
     "metadata": {},
     "output_type": "execute_result"
    }
   ],
   "source": [
    "function does_exist(A, B)\n",
    "    ans = sum(i in A for i in B)\n",
    "    if ans >= 1\n",
    "        return true\n",
    "    else\n",
    "        return false\n",
    "    end\n",
    "end"
   ]
  },
  {
   "cell_type": "code",
   "execution_count": 738,
   "metadata": {},
   "outputs": [
    {
     "data": {
      "text/plain": [
       "tuple_string_to_array (generic function with 1 method)"
      ]
     },
     "execution_count": 738,
     "metadata": {},
     "output_type": "execute_result"
    }
   ],
   "source": [
    "function tuple_string_to_array(tupleStr)\n",
    "    return split(replace(tupleStr[2:end-1], \"'\" => \"\"), \", \")\n",
    "end"
   ]
  },
  {
   "cell_type": "code",
   "execution_count": 739,
   "metadata": {},
   "outputs": [
    {
     "data": {
      "text/plain": [
       "add_choice_set_array_column (generic function with 1 method)"
      ]
     },
     "execution_count": 739,
     "metadata": {},
     "output_type": "execute_result"
    }
   ],
   "source": [
    "function add_choice_set_array_column(data_unprocessed)\n",
    "    data_unprocessed[:, :choice_set_array] = [sort(tuple_string_to_array(row)) for row in data_unprocessed[:, :choice_set]]\n",
    "    return data_unprocessed\n",
    "end"
   ]
  },
  {
   "cell_type": "code",
   "execution_count": 740,
   "metadata": {},
   "outputs": [
    {
     "name": "stdout",
     "output_type": "stream",
     "text": [
      "Data wrangled.\n"
     ]
    }
   ],
   "source": [
    "d5 = add_choice_set_array_column(d5)\n",
    "d5_test = add_choice_set_array_column(d5_test)\n",
    "d9 = add_choice_set_array_column(d9)\n",
    "d9_test = add_choice_set_array_column(d9_test)\n",
    "imbaData = add_choice_set_array_column(imbaData)\n",
    "imbaData_test = add_choice_set_array_column(imbaData_test)\n",
    "wideBensonData = add_choice_set_array_column(wideBensonData)\n",
    "wideBensonData_test = add_choice_set_array_column(wideBensonData_test)\n",
    "patho5 = add_choice_set_array_column(patho5)\n",
    "patho5_test = add_choice_set_array_column(patho5_test)\n",
    "pathoSmall = add_choice_set_array_column(pathoSmall)\n",
    "pathoSmall_test = add_choice_set_array_column(pathoSmall_test)\n",
    "patho1M = add_choice_set_array_column(patho1M)\n",
    "patho1M_test = add_choice_set_array_column(patho1M_test)\n",
    "SFworkData = add_choice_set_array_column(SFworkData)\n",
    "SFwork_test = add_choice_set_array_column(SFwork_test)\n",
    "SFwork_train = add_choice_set_array_column(SFwork_train)\n",
    "sportFishingData = add_choice_set_array_column(sportFishingData)\n",
    "sportFishingData_test = add_choice_set_array_column(sportFishingData_test)\n",
    "println(\"Data wrangled.\")"
   ]
  },
  {
   "cell_type": "code",
   "execution_count": 741,
   "metadata": {
    "scrolled": false
   },
   "outputs": [
    {
     "data": {
      "text/plain": [
       "GetDistanceMat (generic function with 3 methods)"
      ]
     },
     "execution_count": 741,
     "metadata": {},
     "output_type": "execute_result"
    }
   ],
   "source": [
    "function GetDistanceMat(data, items, distanceMeasure=0, normDist=true)\n",
    "    verbose = false\n",
    "    verboseprint(x) = verbose ? println(x) : 0\n",
    "    \n",
    "    verboseprint(\"distanceMeasure: $distanceMeasure\")\n",
    "    verboseprint(\"normDist: $normDist\")\n",
    "    itemSetSize = length(items)\n",
    "    verboseprint(\"itemSetSize: $itemSetSize\")\n",
    "    distanceMat = Matrix{Float64}(undef, itemSetSize, itemSetSize)\n",
    "    for i in 1:itemSetSize\n",
    "        distanceMat[i, i] = 0.0\n",
    "    end\n",
    "    verboseprint(\"distanceMat: $distanceMat\")\n",
    "    for i in 1:itemSetSize, j in i+1:itemSetSize\n",
    "        I = [string(c) for c in flatten_all(items[i])]\n",
    "        J = [string(c) for c in flatten_all(items[j])]\n",
    "\n",
    "        verboseprint(\"I: $I, J: $J\")\n",
    "        verboseprint(string(I))\n",
    "        Aij = @from i in data begin\n",
    "            @where i.choice in I || i.choice in J\n",
    "            @select i\n",
    "            @collect DataFrame\n",
    "        end\n",
    "        \n",
    "        subset_ij = [does_exist(I, Aij[m, :choice_set_array]) && does_exist(J, Aij[m, :choice_set_array]) for m in 1:size(Aij)[1]]\n",
    "        \n",
    "        Aij = Aij[subset_ij, :]\n",
    "        verboseprint(\"Aij subset\")\n",
    "        verboseprint(head(Aij))\n",
    "        Aij_arr = [choiceSet for choiceSet in Aij[:, :choice_set_array]]\n",
    "        verboseprint(\"Aij_arr\")\n",
    "        unique!(Aij_arr)\n",
    "        verboseprint(Aij_arr)\n",
    "        \n",
    "        XijC = []\n",
    "        NijC = []\n",
    "        \n",
    "        for C in Aij_arr\n",
    "            sub_C = @from i in Aij begin\n",
    "                @where i.choice_set_array == C\n",
    "                @select i\n",
    "                @collect DataFrame\n",
    "            end\n",
    "            \n",
    "            push!(NijC, size(sub_C)[1])\n",
    "            \n",
    "            sub_C_X = @from i in sub_C begin\n",
    "                @where i.choice in I\n",
    "                @select i\n",
    "                @collect DataFrame\n",
    "            end\n",
    "\n",
    "            push!(XijC, size(sub_C_X)[1])\n",
    "        end\n",
    "        \n",
    "        verboseprint(\"XijC, $XijC\")\n",
    "        verboseprint(\"NijC, $NijC\")\n",
    "        \n",
    "        verboseprint(length(NijC))\n",
    "        verboseprint(sum(NijC))\n",
    "        \n",
    "        if length(NijC) == 0\n",
    "            Pij = 0\n",
    "        else\n",
    "            Pij = sum(XijC) / (sum(NijC) + buffer)\n",
    "        end\n",
    "        verboseprint(\"\\n\\nPij, $Pij\\n\\n\")\n",
    "        normNum = length(XijC)\n",
    "        if normNum == 0\n",
    "            normNum = 1\n",
    "        end\n",
    "        verboseprint(\"normNum, $normNum\")\n",
    "\n",
    "        if distanceMeasure == 0\n",
    "            verboseprint(\"XijC - Pij * NijC, $(XijC - Pij * NijC)\")\n",
    "            verboseprint(\"XijC - Pij * NijC .^ 2, $((XijC - Pij * NijC) .^ 2)\")\n",
    "            verboseprint(\"Pij * NijC + buffer, $(Pij * NijC .+ buffer)\")\n",
    "            verboseprint(\"(XijC - Pij * NijC) .^ 2 ./ (Pij * NijC .+ buffer), $((XijC - Pij * NijC) .^ 2 ./ (Pij * NijC .+ buffer))\")\n",
    "            chi2 = sum((XijC - Pij * NijC) .^ 2 ./ (Pij * NijC .+ buffer))\n",
    "            verboseprint(\"chi2, $chi2\")\n",
    "\n",
    "            distanceMat[i, j] = distanceMat[j, i] = chi2 + buffer * 1000\n",
    "            verboseprint(\"distanceMat\")\n",
    "            verboseprint(distanceMat)\n",
    "        end\n",
    "#         try\n",
    "            \n",
    "#         catch\n",
    "#             distanceMat[i, j] = distanceMat[j, i] = 1e6\n",
    "#         end\n",
    "        if normDist\n",
    "            verboseprint(\"Before dist = $(distanceMat[i, j])\")\n",
    "            distanceMat[i, j] /= normNum\n",
    "            distanceMat[j, i] /= normNum\n",
    "            verboseprint(\"After dist = $(distanceMat[i, j])\\n\\n\\n\")\n",
    "        end\n",
    "    end\n",
    "    \n",
    "    return distanceMat\n",
    "end"
   ]
  },
  {
   "cell_type": "code",
   "execution_count": 313,
   "metadata": {},
   "outputs": [
    {
     "data": {
      "text/plain": [
       "5×5 Array{Float64,2}:\n",
       "  0.0        0.578813   0.491753  16.7662    18.7426  \n",
       "  0.578813   0.0        0.550056  21.391     13.6919  \n",
       "  0.491753   0.550056   0.0       14.9411     4.55961 \n",
       " 16.7662    21.391     14.9411     0.0        0.207877\n",
       " 18.7426    13.6919     4.55961    0.207877   0.0     "
      ]
     },
     "metadata": {},
     "output_type": "display_data"
    }
   ],
   "source": [
    "display(GetDistanceMat(T3_test, items5))"
   ]
  },
  {
   "cell_type": "code",
   "execution_count": 355,
   "metadata": {},
   "outputs": [
    {
     "data": {
      "text/plain": [
       "5×5 Array{Float64,2}:\n",
       "   0.0         0.262361    0.667971  183.719     192.857   \n",
       "   0.262361    0.0         0.518222  166.188     110.706   \n",
       "   0.667971    0.518222    0.0       137.601      45.1627  \n",
       " 183.719     166.188     137.601       0.0         0.578289\n",
       " 192.857     110.706      45.1627      0.578289    0.0     "
      ]
     },
     "metadata": {},
     "output_type": "display_data"
    },
    {
     "name": "stdout",
     "output_type": "stream",
     "text": [
      "  3.068926 seconds (29.94 M allocations: 1.017 GiB, 32.51% gc time)\n"
     ]
    }
   ],
   "source": [
    "@time display(GetDistanceMat(d5, items5))"
   ]
  },
  {
   "cell_type": "code",
   "execution_count": 354,
   "metadata": {},
   "outputs": [
    {
     "data": {
      "text/plain": [
       "9×9 Array{Float64,2}:\n",
       "  0.0        0.308833   0.311478  …   4.49961   7.91941    6.56169 \n",
       "  0.308833   0.0        0.587684     12.2996   15.3115    12.5337  \n",
       "  0.311478   0.587684   0.0           9.81882  10.044      8.42709 \n",
       "  6.79634   11.4006     9.28723       8.0911   10.858      9.57939 \n",
       "  1.9845     9.58405    4.97641       4.02763   6.74092    4.38627 \n",
       " 10.6155    15.8871    13.8688    …   0.97825   8.293      7.25432 \n",
       "  4.49961   12.2996     9.81882       0.0       3.03479    1.3827  \n",
       "  7.91941   15.3115    10.044         3.03479   0.0        0.399742\n",
       "  6.56169   12.5337     8.42709       1.3827    0.399742   0.0     "
      ]
     },
     "metadata": {},
     "output_type": "display_data"
    },
    {
     "name": "stdout",
     "output_type": "stream",
     "text": [
      "  5.827622 seconds (60.55 M allocations: 2.096 GiB, 33.20% gc time)\n"
     ]
    }
   ],
   "source": [
    "@time display(GetDistanceMat(d9, items9))"
   ]
  },
  {
   "cell_type": "code",
   "execution_count": 358,
   "metadata": {},
   "outputs": [
    {
     "data": {
      "text/plain": [
       "9×9 Array{Float64,2}:\n",
       "  0.0        0.556805  2.50247   15.4026    …  12.2628    3.64056   4.25136 \n",
       "  0.556805   0.0       1.03115   11.3508        9.21227   1.49689   3.19614 \n",
       "  2.50247    1.03115   0.0        8.74625       5.19551   0.500974  6.61122 \n",
       " 15.4026    11.3508    8.74625    0.0           6.36236   6.41971   3.8509  \n",
       " 10.3099     8.70524   4.77214    0.588914      6.22251   4.12302   1.97548 \n",
       "  7.12746    4.69102   1.51944    1.11083   …   0.207484  1.00818   0.694868\n",
       " 12.2628     9.21227   5.19551    6.36236       0.0       4.13071   1.90775 \n",
       "  3.64056    1.49689   0.500974   6.41971       4.13071   0.0       2.79601 \n",
       "  4.25136    3.19614   6.61122    3.8509        1.90775   2.79601   0.0     "
      ]
     },
     "metadata": {},
     "output_type": "display_data"
    },
    {
     "name": "stdout",
     "output_type": "stream",
     "text": [
      "  5.904106 seconds (60.45 M allocations: 2.087 GiB, 32.97% gc time)\n"
     ]
    }
   ],
   "source": [
    "@time display(GetDistanceMat(imbaData, imbaItems))"
   ]
  },
  {
   "cell_type": "code",
   "execution_count": 361,
   "metadata": {},
   "outputs": [
    {
     "data": {
      "text/plain": [
       "17×17 Array{Float64,2}:\n",
       " 0.0       0.214952  0.919034  0.700068  …  0.781304  0.231963  0.217361\n",
       " 0.214952  0.0       1.31699   1.32327      0.782442  0.341172  0.466977\n",
       " 0.919034  1.31699   0.0       0.808238     0.888911  0.303141  0.321701\n",
       " 0.700068  1.32327   0.808238  0.0          0.579715  0.253285  0.201156\n",
       " 0.757705  1.05572   0.689443  0.711102     0.49728   0.19829   0.153272\n",
       " 0.799384  0.787428  0.821199  0.615665  …  0.679581  0.245468  0.194876\n",
       " 0.531815  0.663079  0.58232   0.514577     0.879406  0.293991  0.239168\n",
       " 0.760874  0.83296   0.742155  0.535456     0.82399   0.378029  0.390656\n",
       " 0.487503  0.710646  0.645062  0.609043     0.862717  0.313304  0.326615\n",
       " 0.530343  0.790614  0.730306  0.549316     0.741417  0.292295  0.330694\n",
       " 0.496577  0.910127  0.639838  0.430494  …  0.714994  0.250452  0.206491\n",
       " 0.809722  1.14904   0.853757  0.736497     0.645754  0.316438  0.328915\n",
       " 0.638448  0.854018  0.851931  0.685044     0.69471   0.235815  0.267883\n",
       " 0.628925  0.998346  0.91247   0.780825     0.562508  0.311013  0.400716\n",
       " 0.781304  0.782442  0.888911  0.579715     0.0       0.259015  0.391744\n",
       " 0.231963  0.341172  0.303141  0.253285  …  0.259015  0.0       0.270476\n",
       " 0.217361  0.466977  0.321701  0.201156     0.391744  0.270476  0.0     "
      ]
     },
     "metadata": {},
     "output_type": "display_data"
    },
    {
     "name": "stdout",
     "output_type": "stream",
     "text": [
      " 17.394132 seconds (195.82 M allocations: 6.800 GiB, 34.06% gc time)\n"
     ]
    }
   ],
   "source": [
    "@time dist_wB = GetDistanceMat(wideBensonData, wideBensonItems)\n",
    "@time display(dist_wB)"
   ]
  },
  {
   "cell_type": "code",
   "execution_count": 527,
   "metadata": {},
   "outputs": [
    {
     "data": {
      "text/plain": [
       "17×17 Array{Float64,2}:\n",
       " 0.0       0.214952  0.919034  0.700068  …  0.781304  0.231963  0.217361\n",
       " 0.214952  0.0       1.31699   1.32327      0.782442  0.341172  0.466977\n",
       " 0.919034  1.31699   0.0       0.808238     0.888911  0.303141  0.321701\n",
       " 0.700068  1.32327   0.808238  0.0          0.579715  0.253285  0.201156\n",
       " 0.757705  1.05572   0.689443  0.711102     0.49728   0.19829   0.153272\n",
       " 0.799384  0.787428  0.821199  0.615665  …  0.679581  0.245468  0.194876\n",
       " 0.531815  0.663079  0.58232   0.514577     0.879406  0.293991  0.239168\n",
       " 0.760874  0.83296   0.742155  0.535456     0.82399   0.378029  0.390656\n",
       " 0.487503  0.710646  0.645062  0.609043     0.862717  0.313304  0.326615\n",
       " 0.530343  0.790614  0.730306  0.549316     0.741417  0.292295  0.330694\n",
       " 0.496577  0.910127  0.639838  0.430494  …  0.714994  0.250452  0.206491\n",
       " 0.809722  1.14904   0.853757  0.736497     0.645754  0.316438  0.328915\n",
       " 0.638448  0.854018  0.851931  0.685044     0.69471   0.235815  0.267883\n",
       " 0.628925  0.998346  0.91247   0.780825     0.562508  0.311013  0.400716\n",
       " 0.781304  0.782442  0.888911  0.579715     0.0       0.259015  0.391744\n",
       " 0.231963  0.341172  0.303141  0.253285  …  0.259015  0.0       0.270476\n",
       " 0.217361  0.466977  0.321701  0.201156     0.391744  0.270476  0.0     "
      ]
     },
     "metadata": {},
     "output_type": "display_data"
    },
    {
     "name": "stdout",
     "output_type": "stream",
     "text": [
      "  0.001593 seconds (7.17 k allocations: 320.172 KiB)\n"
     ]
    }
   ],
   "source": [
    "@time display(dist_wB)"
   ]
  },
  {
   "cell_type": "code",
   "execution_count": null,
   "metadata": {},
   "outputs": [],
   "source": []
  },
  {
   "cell_type": "code",
   "execution_count": 371,
   "metadata": {},
   "outputs": [
    {
     "name": "stdout",
     "output_type": "stream",
     "text": [
      "Array{String,1}\n",
      "true\n",
      "false\n"
     ]
    }
   ],
   "source": []
  },
  {
   "cell_type": "code",
   "execution_count": 806,
   "metadata": {},
   "outputs": [
    {
     "name": "stdout",
     "output_type": "stream",
     "text": [
      "Any[\"A\", \"B\", [\"C\", \"D\"]]\n",
      "length(T): 3\n",
      "length(T): 1\n",
      "length(T): 1\n",
      "length(T): 2\n",
      "length(T): 1\n",
      "length(T): 1\n",
      "Any[[\"A\"], [\"B\"], Any[[\"C\"], [\"D\"]]]\n"
     ]
    }
   ],
   "source": [
    "function NewStructToOld(T)\n",
    "    println(\"length(T): $(length(T))\")\n",
    "    if length(T) == 1 && T isa Array\n",
    "        return T\n",
    "    else\n",
    "        if !(T isa Array)\n",
    "            return [T]\n",
    "        else\n",
    "            oldT = []\n",
    "            for t in T\n",
    "                push!(oldT, NewStructToOld(t))\n",
    "            end\n",
    "            return oldT\n",
    "        end\n",
    "    end\n",
    "end\n",
    "println([\"A\", \"B\", [\"C\", \"D\"]])\n",
    "println(NewStructToOld([\"A\", \"B\", [\"C\", \"D\"]]))"
   ]
  },
  {
   "cell_type": "code",
   "execution_count": 802,
   "metadata": {},
   "outputs": [
    {
     "data": {
      "text/plain": [
       "3-element Array{Array{T,1} where T,1}:\n",
       " [\"A\"]                        \n",
       " [\"B\"]                        \n",
       " Array{String,1}[[\"C\"], [\"D\"]]"
      ]
     },
     "execution_count": 802,
     "metadata": {},
     "output_type": "execute_result"
    }
   ],
   "source": [
    "toyTree"
   ]
  },
  {
   "cell_type": "code",
   "execution_count": null,
   "metadata": {},
   "outputs": [],
   "source": []
  },
  {
   "cell_type": "code",
   "execution_count": 385,
   "metadata": {},
   "outputs": [
    {
     "data": {
      "text/plain": [
       "5×5 Array{Float64,2}:\n",
       "   0.0         0.262361    0.667971  183.719     192.857   \n",
       "   0.262361    0.0         0.518222  166.188     110.706   \n",
       "   0.667971    0.518222    0.0       137.601      45.1627  \n",
       " 183.719     166.188     137.601       0.0         0.578289\n",
       " 192.857     110.706      45.1627      0.578289    0.0     "
      ]
     },
     "metadata": {},
     "output_type": "display_data"
    },
    {
     "name": "stdout",
     "output_type": "stream",
     "text": [
      "  3.294293 seconds (29.93 M allocations: 1.017 GiB, 33.42% gc time)\n"
     ]
    }
   ],
   "source": [
    "@time dist_d5 = GetDistanceMat(d5, items5)\n",
    "display(dist_d5)"
   ]
  },
  {
   "cell_type": "code",
   "execution_count": 743,
   "metadata": {},
   "outputs": [
    {
     "data": {
      "text/plain": [
       "kMedoids (generic function with 2 methods)"
      ]
     },
     "execution_count": 743,
     "metadata": {},
     "output_type": "execute_result"
    }
   ],
   "source": [
    "function kMedoids(D, k, tmax=100)\n",
    "    \"\"\"\n",
    "    Function for k-medoids\n",
    "    :param D: distance matrix\n",
    "    :param k: # of medoids assigned\n",
    "    :param tmax: # of max iteration\n",
    "    :return: an assignment for each item to each cluster\n",
    "    \"\"\"\n",
    "    \n",
    "    verbose = false\n",
    "    verboseprint(x) = verbose ? println(x) : 0\n",
    "    \n",
    "    m, n = size(D)\n",
    "#     display(D)\n",
    "    valid_medoid_inds = collect(1:n)\n",
    "    rs = cs = index_shuf = collect(1:n)\n",
    "    shuffle!(rs)\n",
    "    \n",
    "    M = collect(1:n)\n",
    "    verboseprint(\"M: $M\")\n",
    "    shuffle!(M)\n",
    "    verboseprint(\"M: $M\")\n",
    "    M = sort(M[1:k])\n",
    "    verboseprint(\"M: $M\")\n",
    "    Mnew = copy(M)\n",
    "    verboseprint(\"Mnew: $Mnew\")\n",
    "    C = Dict()\n",
    "    \n",
    "    for t in 1:tmax\n",
    "        verboseprint(\"D[:, M]\")\n",
    "        verboseprint(D[:, M])\n",
    "#         display(D[:, M])\n",
    "        J = argmin(D[:, M], dims=2)\n",
    "        verboseprint(\"J1: $J\")\n",
    "        J = [ele[2] for ele in J]\n",
    "        verboseprint(\"tJ: $J\")\n",
    "        \n",
    "        for kappa in 1:k\n",
    "            idxJ = [ele[1] for ele in findall(x -> x == kappa, J)]\n",
    "            verboseprint(\"kappa: $kappa, idxJ: $idxJ\")\n",
    "            C[kappa] = idxJ\n",
    "        end\n",
    "        \n",
    "        \n",
    "        for kappa in 1:k\n",
    "            J = [D[i, j] for i in C[kappa], j in C[kappa]]\n",
    "            verboseprint(\"kappa: $kappa, J2: $J\")\n",
    "            J = mean(J, dims=1)\n",
    "            verboseprint(\"mean, J2: $J\")\n",
    "            j = argmin(J)[2]\n",
    "            verboseprint(\"j: $j\")\n",
    "            Mnew[kappa] = C[kappa][j]\n",
    "            verboseprint(\"reassigned Mnew: $Mnew, M: $M\")\n",
    "            if Mnew == M\n",
    "                break\n",
    "            else\n",
    "                M = copy(Mnew)\n",
    "            end\n",
    "        end\n",
    "        \n",
    "        sort!(Mnew)\n",
    "        verboseprint(\"sorted Mnew: $Mnew\")\n",
    "        \n",
    "    end\n",
    "    return M, C\n",
    "\n",
    "end"
   ]
  },
  {
   "cell_type": "code",
   "execution_count": 724,
   "metadata": {},
   "outputs": [
    {
     "name": "stdout",
     "output_type": "stream",
     "text": [
      "  0.312280 seconds (574.81 k allocations: 27.313 MiB, 8.17% gc time)\n"
     ]
    },
    {
     "data": {
      "text/plain": [
       "([1, 2, 4], Dict{Any,Any}(2=>[2, 3],3=>[4, 5],1=>[1]))"
      ]
     },
     "execution_count": 724,
     "metadata": {},
     "output_type": "execute_result"
    }
   ],
   "source": [
    "@time M, C = kMedoids(dist_d5, 3)"
   ]
  },
  {
   "cell_type": "code",
   "execution_count": 744,
   "metadata": {},
   "outputs": [
    {
     "data": {
      "text/plain": [
       "C2NewItems (generic function with 1 method)"
      ]
     },
     "execution_count": 744,
     "metadata": {},
     "output_type": "execute_result"
    }
   ],
   "source": [
    "function C2NewItems(C, items)\n",
    "    newItems = []\n",
    "    for c in values(C)\n",
    "        if length(c) == 1\n",
    "            push!(newItems, items[c[1]])\n",
    "        else\n",
    "            push!(newItems, [items[j] for j in c])\n",
    "        end\n",
    "    end\n",
    "    \n",
    "    return newItems\n",
    "end"
   ]
  },
  {
   "cell_type": "code",
   "execution_count": 551,
   "metadata": {},
   "outputs": [
    {
     "data": {
      "text/plain": [
       "3-element Array{Any,1}:\n",
       " Array{String,1}[[\"B\"], [\"C\"]]\n",
       " Array{String,1}[[\"D\"], [\"E\"]]\n",
       " [\"A\"]                        "
      ]
     },
     "execution_count": 551,
     "metadata": {},
     "output_type": "execute_result"
    }
   ],
   "source": [
    "C2NewItems(C, items5)"
   ]
  },
  {
   "cell_type": "code",
   "execution_count": 553,
   "metadata": {},
   "outputs": [
    {
     "data": {
      "text/plain": [
       "5×5 Array{Float64,2}:\n",
       "   0.0         0.262361    0.667971  183.719     192.857   \n",
       "   0.262361    0.0         0.518222  166.188     110.706   \n",
       "   0.667971    0.518222    0.0       137.601      45.1627  \n",
       " 183.719     166.188     137.601       0.0         0.578289\n",
       " 192.857     110.706      45.1627      0.578289    0.0     "
      ]
     },
     "metadata": {},
     "output_type": "display_data"
    },
    {
     "name": "stdout",
     "output_type": "stream",
     "text": [
      "[0.0 0.262361 0.667971 183.719 192.857; 0.262361 0.0 0.518222 166.188 110.706; 0.667971 0.518222 0.0 137.601 45.1627; 183.719 166.188 137.601 0.0 0.578289; 192.857 110.706 45.1627 0.578289 0.0]\n"
     ]
    }
   ],
   "source": [
    "display(dist_d5)\n",
    "println(flatten_all(dist_d5))"
   ]
  },
  {
   "cell_type": "code",
   "execution_count": null,
   "metadata": {},
   "outputs": [],
   "source": []
  },
  {
   "cell_type": "code",
   "execution_count": null,
   "metadata": {},
   "outputs": [],
   "source": []
  },
  {
   "cell_type": "code",
   "execution_count": 745,
   "metadata": {},
   "outputs": [
    {
     "data": {
      "text/plain": [
       "UpdateTreeStructure (generic function with 3 methods)"
      ]
     },
     "execution_count": 745,
     "metadata": {},
     "output_type": "execute_result"
    }
   ],
   "source": [
    "function UpdateTreeStructure(currentTree, subsetLoc, optItems, currentLoc=[], d=0)\n",
    "    oldT = []\n",
    "    for i in 1:length(currentTree)\n",
    "        currentLoc_b = copy(currentLoc)\n",
    "        push!(currentLoc_b, i)\n",
    "        t = currentTree[i]\n",
    "        if currentLoc_b == subsetLoc\n",
    "            push!(oldT, optItems)\n",
    "        elseif !(t isa Array)\n",
    "            push!(oldT, t)\n",
    "        else\n",
    "            push!(oldT, UpdateTreeStructure(t, subsetLoc, optItems, currentLoc_b, d + 1))\n",
    "        end\n",
    "    end\n",
    "    \n",
    "    return oldT\n",
    "end"
   ]
  },
  {
   "cell_type": "code",
   "execution_count": 592,
   "metadata": {},
   "outputs": [
    {
     "name": "stdout",
     "output_type": "stream",
     "text": [
      "Any[Any['A'], Any[['D'], Any['C']]]\n"
     ]
    }
   ],
   "source": [
    "println(UpdateTreeStructure([['A'], [['B'], ['C']]], [2, 1], ['D']))"
   ]
  },
  {
   "cell_type": "code",
   "execution_count": null,
   "metadata": {},
   "outputs": [],
   "source": []
  },
  {
   "cell_type": "code",
   "execution_count": null,
   "metadata": {},
   "outputs": [],
   "source": []
  },
  {
   "cell_type": "code",
   "execution_count": null,
   "metadata": {},
   "outputs": [],
   "source": []
  },
  {
   "cell_type": "code",
   "execution_count": null,
   "metadata": {},
   "outputs": [],
   "source": []
  },
  {
   "cell_type": "code",
   "execution_count": null,
   "metadata": {},
   "outputs": [],
   "source": []
  },
  {
   "cell_type": "code",
   "execution_count": null,
   "metadata": {},
   "outputs": [],
   "source": []
  },
  {
   "cell_type": "code",
   "execution_count": 746,
   "metadata": {},
   "outputs": [
    {
     "data": {
      "text/plain": [
       "DivisiveClusteringNew (generic function with 2 methods)"
      ]
     },
     "execution_count": 746,
     "metadata": {},
     "output_type": "execute_result"
    }
   ],
   "source": [
    "function DivisiveClusteringNew(data, items, criterion, subsetLoc, currentTree, normDist=true)\n",
    "    verbose = false\n",
    "    verboseprint(x) = verbose ? println(x) : 0\n",
    "    \n",
    "    foldNumList = collect(2:length(items))\n",
    "    distMatList = []\n",
    "    normMatList = []\n",
    "    varDistList = []\n",
    "    maxDistList = []\n",
    "    rangeDistList = []\n",
    "    nllhList = []\n",
    "    optItemsList = []\n",
    "    oriDistMat = GetDistanceMat(data, items)\n",
    "    distMat = copy(oriDistMat)\n",
    "    \n",
    "    newItems = []\n",
    "    currentTree_k = []\n",
    "    \n",
    "    verboseprint(\"items: $items\")\n",
    "    for foldNum in foldNumList\n",
    "        if foldNum == length(items)\n",
    "            newItems = items\n",
    "            distMat = copy(oriDistMat)\n",
    "        else\n",
    "            M, C = kMedoids(oriDistMat, foldNum)\n",
    "            newItems = C2NewItems(C, items)\n",
    "            distMat = GetDistanceMat(data, newItems)\n",
    "        end\n",
    "        verboseprint(\"\\n\\nfoldNum: $foldNum, distMat: $distMat\")\n",
    "        push!(optItemsList, newItems)\n",
    "    \n",
    "        push!(distMatList, distMat)\n",
    "        distMat_b = copy(distMat)\n",
    "        flatDistMat = flatten_all(distMat_b)\n",
    "        flatDistMat = flatDistMat[flatDistMat .> 0]\n",
    "        verboseprint(\"flatDistMat: $flatDistMat\")\n",
    "        \n",
    "        push!(normMatList, sum(flatDistMat .^ 2) ./ length(flatDistMat))\n",
    "        push!(maxDistList, maximum(flatDistMat))\n",
    "        push!(rangeDistList, (maximum(flatDistMat) - minimum(flatDistMat)))\n",
    "        push!(varDistList, var(flatDistMat))\n",
    "        \n",
    "        flatDistMat = flatDistMat / maximum(flatDistMat)\n",
    "        verboseprint(\"flatDistMat: $flatDistMat\")\n",
    "        verboseprint(\"newItems: $newItems\")\n",
    "        verboseprint(\"currentTree: $currentTree\")\n",
    "        \n",
    "        if length(subsetLoc) == 0\n",
    "            currentTree_k = newItems\n",
    "        else\n",
    "            currentTree_k = UpdateTreeStructure(currentTree, subsetLoc, newItems)\n",
    "        end\n",
    "        verboseprint(\"currentTree_k: $currentTree_k\")\n",
    "        \n",
    "    end\n",
    "    \n",
    "    verboseprint(\"\\n\\nnormMatList: $normMatList\")\n",
    "    verboseprint(\"maxDistList: $maxDistList\")\n",
    "    verboseprint(\"varDistList: $varDistList\")\n",
    "    verboseprint(\"rangeDistList: $rangeDistList\")\n",
    "    \n",
    "    if criterion == 0\n",
    "        optIdx = argmin(normMatList)\n",
    "    elseif criterion == 1\n",
    "        optIdx = argmin(maxDistList)\n",
    "    elseif criterion == 2\n",
    "        optIdx = argmin(varDistList)\n",
    "    elseif criterion == 3\n",
    "        optIdx = argmin(rangeDistList)\n",
    "#     elseif criterion == 4\n",
    "#         optIdx = argmin(nllhList)\n",
    "    end\n",
    "    \n",
    "    verboseprint(\"optIdx: $optIdx\")\n",
    "    optFoldNum = foldNumList[optIdx]\n",
    "    \n",
    "    if optFoldNum == length(items)\n",
    "        return items\n",
    "    end\n",
    "    optItems = optItemsList[optIdx]\n",
    "    \n",
    "    if length(subsetLoc) == 0\n",
    "        currentTree_b = optItems\n",
    "    else\n",
    "        currentTree_b = UpdateTreeStructure(currentTree, subsetLoc, optItems)\n",
    "    end\n",
    "    \n",
    "    clusteredSet = []\n",
    "    \n",
    "    for subsetIdx in 1:length(optItems)\n",
    "        subset = optItems[subsetIdx]\n",
    "        if length(subset) > 2\n",
    "#             verboseprint(\"optItems\", optItems)\n",
    "#             verboseprint(\"subsetIdx {0}, subset\".format(subsetIdx, subset))\n",
    "            subsetLoc_b = copy(subsetLoc)\n",
    "            push!(subsetLoc_b, subsetIdx)\n",
    "#             verboseprint(\"Passing subsetLoc_b\", subsetLoc_b)\n",
    "            push!(clusteredSet, DivisiveClusteringNew(data, subset, criterion, subsetLoc_b, currentTree_b, normDist))\n",
    "        else\n",
    "            push!(clusteredSet, subset)\n",
    "        end\n",
    "    end\n",
    "\n",
    "    if length(clusteredSet) == length(items)\n",
    "        return items\n",
    "    end\n",
    "\n",
    "    return clusteredSet\n",
    "end"
   ]
  },
  {
   "cell_type": "code",
   "execution_count": 747,
   "metadata": {},
   "outputs": [
    {
     "data": {
      "text/plain": [
       "DivisiveClustering (generic function with 3 methods)"
      ]
     },
     "execution_count": 747,
     "metadata": {},
     "output_type": "execute_result"
    }
   ],
   "source": [
    "function DivisiveClustering(data, items, criterion=2, normDist=true)\n",
    "    divisNew = DivisiveClusteringNew(data, items, criterion, [], items, normDist)\n",
    "    return [NewStructToOld(divisNew)]\n",
    "end"
   ]
  },
  {
   "cell_type": "code",
   "execution_count": 715,
   "metadata": {},
   "outputs": [
    {
     "data": {
      "text/plain": [
       "1-element Array{Array{Any,1},1}:\n",
       " [Any[Any[[\"D\"], [\"E\"]], [\"C\"]], Any[[\"A\"], [\"B\"]]]"
      ]
     },
     "metadata": {},
     "output_type": "display_data"
    },
    {
     "name": "stdout",
     "output_type": "stream",
     "text": [
      " 15.133177 seconds (111.67 M allocations: 3.878 GiB, 41.34% gc time)\n"
     ]
    }
   ],
   "source": [
    "@time divis2 = DivisiveClustering(d5, items5, 2, false)\n",
    "display(divis2)"
   ]
  },
  {
   "cell_type": "code",
   "execution_count": null,
   "metadata": {},
   "outputs": [],
   "source": []
  },
  {
   "cell_type": "code",
   "execution_count": 911,
   "metadata": {},
   "outputs": [
    {
     "data": {
      "text/html": [
       "<table class=\"data-frame\"><thead><tr><th></th><th></th><th>choice_set</th><th>choice</th><th>choice_set_array</th></tr></thead><tbody><tr><th>1</th><td>0</td><td>('A', 'D')</td><td>D</td><td>SubString{String}[\"A\", \"D\"]</td></tr><tr><th>2</th><td>1</td><td>('A', 'C')</td><td>A</td><td>SubString{String}[\"A\", \"C\"]</td></tr><tr><th>3</th><td>2</td><td>('A', 'E')</td><td>A</td><td>SubString{String}[\"A\", \"E\"]</td></tr><tr><th>4</th><td>3</td><td>('A', 'C')</td><td>C</td><td>SubString{String}[\"A\", \"C\"]</td></tr><tr><th>5</th><td>4</td><td>('A', 'B', 'C', 'D', 'E')</td><td>C</td><td>SubString{String}[\"A\", \"B\", \"C\", \"D\", \"E\"]</td></tr><tr><th>6</th><td>5</td><td>('A', 'B', 'C', 'D', 'E')</td><td>A</td><td>SubString{String}[\"A\", \"B\", \"C\", \"D\", \"E\"]</td></tr></tbody></table>"
      ],
      "text/plain": [
       "6×4 DataFrame. Omitted printing of 1 columns\n",
       "│ Row │   │ choice_set                │ choice │\n",
       "├─────┼───┼───────────────────────────┼────────┤\n",
       "│ 1   │ 0 │ ('A', 'D')                │ D      │\n",
       "│ 2   │ 1 │ ('A', 'C')                │ A      │\n",
       "│ 3   │ 2 │ ('A', 'E')                │ A      │\n",
       "│ 4   │ 3 │ ('A', 'C')                │ C      │\n",
       "│ 5   │ 4 │ ('A', 'B', 'C', 'D', 'E') │ C      │\n",
       "│ 6   │ 5 │ ('A', 'B', 'C', 'D', 'E') │ A      │"
      ]
     },
     "metadata": {},
     "output_type": "display_data"
    },
    {
     "name": "stdout",
     "output_type": "stream",
     "text": [
      "10000\n",
      "1×4 DataFrame\n",
      "│ Row │   │ choice_set │ choice │ choice_set_array            │\n",
      "├─────┼───┼────────────┼────────┼─────────────────────────────┤\n",
      "│ 1   │ 1 │ ('A', 'C') │ A      │ SubString{String}[\"A\", \"C\"] │\n",
      "A\n"
     ]
    }
   ],
   "source": [
    "RESULT_DIRECTORY = \"ExperimentResult\"\n",
    "\n",
    "defaultSamplePropList = [0.01, 0.1, 0.5, 1]\n",
    "defaultSampleNum = 5\n",
    "maxIter = 5000\n",
    "learningRate = 0.0001\n",
    "TOTAL_EXPNUM = 100\n",
    "\n",
    "\"\"\"Add tree name\"\"\"\n",
    "datasetNameList = [\"T3\", \"Benson\", \"imba\", \"wideBenson\", \"patho5\", \"pathoSmall\", \"patho1M\", \"SFwork\", \"sportFishing\"]\n",
    "\n",
    "display(head(d5_test))\n",
    "println(size(d5_test)[1])\n",
    "println(d5_test[2, :])\n",
    "inst = d5_test[2, :]\n",
    "inst[1, :choice_set_array] == [\"A\", \"C\"]\n",
    "println(inst[1, :choice])"
   ]
  },
  {
   "cell_type": "code",
   "execution_count": 753,
   "metadata": {},
   "outputs": [
    {
     "data": {
      "text/plain": [
       "flatten_dict (generic function with 1 method)"
      ]
     },
     "execution_count": 753,
     "metadata": {},
     "output_type": "execute_result"
    }
   ],
   "source": [
    "function flatten_dict(dic)\n",
    "    dV_list = []\n",
    "    for key in keys(dic)\n",
    "        push!(dV_list, collect(values(dic[key])))\n",
    "    end\n",
    "    dV_list = flatten_all(dV_list)\n",
    "    return dV_list\n",
    "end"
   ]
  },
  {
   "cell_type": "code",
   "execution_count": 761,
   "metadata": {},
   "outputs": [
    {
     "data": {
      "text/plain": [
       "IsNewStructure (generic function with 1 method)"
      ]
     },
     "execution_count": 761,
     "metadata": {},
     "output_type": "execute_result"
    }
   ],
   "source": [
    "function IsNewStructure(T)\n",
    "    \"\"\"\n",
    "    Function for test whether a tree is represented in new structure: ['A', ['B', 'C']], or old structure [['A'], [['B'], ['C']]].\n",
    "\n",
    "    As some of the function needs a tree in old structure as the input and some funtion produces a tree in new structure.\n",
    "    :param T: A tree in either form\n",
    "    :return: True for T is in new structure\n",
    "    \"\"\"\n",
    "    while maximum([length(T[i]) for i in 1:length(T)]) > 1\n",
    "        T = [T[i][j] for i in 1:length(T) for j in 1:length(T[i]) if T[i][j] isa Array]\n",
    "\n",
    "        if length(T) == 0\n",
    "            return true\n",
    "        end\n",
    "\n",
    "        for t in T\n",
    "            if !(t isa Array)\n",
    "                return true\n",
    "            end\n",
    "        end\n",
    "    end\n",
    "                    \n",
    "\n",
    "    return false\n",
    "end"
   ]
  },
  {
   "cell_type": "code",
   "execution_count": 766,
   "metadata": {},
   "outputs": [],
   "source": [
    "function GetEdgeNumEachLevel(T)\n",
    "    \"\"\"\n",
    "    Function for parsing tree structure for MLE\n",
    "    :param T: a tree\n",
    "    :return: # of edges in each level of T\n",
    "    \"\"\"\n",
    "    edgeNum = [length(T)]\n",
    "    while maximum([length(T[i]) for i in 1:length(T)]) > 1\n",
    "        T = [T[i][j] for i in 1:length(T) for j in 1:length(T[i]) if T[i][j] isa Array]\n",
    "        push!(edgeNum, length(T))\n",
    "    end\n",
    "\n",
    "    return edgeNum\n",
    "end"
   ]
  },
  {
   "cell_type": "code",
   "execution_count": 812,
   "metadata": {},
   "outputs": [
    {
     "data": {
      "text/plain": [
       "1-element Array{Array{Array{T,1} where T,1},1}:\n",
       " [[\"No\"], Array{T,1} where T[Array{Array{String,1},1}[[[\"SmKA\"], [\"SmKB\"]], [[\"SmRA\"], [\"SmRB\"]], [[\"SmSA\"], [\"SmSB\"]], [[\"SmPA\"], [\"SmPB\"]]], Array{Array{String,1},1}[[[\"FRA\"], [\"FRB\"]], [[\"FDA\"], [\"FDB\"]], [[\"FLA\"], [\"FLB\"]], [[\"FGA\"], [\"FGB\"]], [[\"FOA\"], [\"FOB\"]]], Array{Array{String,1},1}[[[\"SwHA\"], [\"SwHB\"]], [[\"SwRA\"], [\"SwRB\"]], [[\"SwOA\"], [\"SwOB\"]]], Array{String,1}[[\"NA\"], [\"NB\"]]]]"
      ]
     },
     "execution_count": 812,
     "metadata": {},
     "output_type": "execute_result"
    }
   ],
   "source": [
    "toyTree = [[[\"A\"], [\"B\"], [[\"C\"], [\"D\"]]]]\n",
    "sportFishingTree = [[[\"No\"], [[[[\"SmKA\"], [\"SmKB\"]], [[\"SmRA\"], [\"SmRB\"]], [[\"SmSA\"], [\"SmSB\"]], [[\"SmPA\"], [\"SmPB\"]]], [[[\"FRA\"], [\"FRB\"]], [[\"FDA\"], [\"FDB\"]], [[\"FLA\"], [\"FLB\"]], [[\"FGA\"], [\"FGB\"]], [[\"FOA\"], [\"FOB\"]]], [[[\"SwHA\"], [\"SwHB\"]], [[\"SwRA\"], [\"SwRB\"]], [[\"SwOA\"], [\"SwOB\"]]], [[\"NA\"], [\"NB\"]]]]]\n"
   ]
  },
  {
   "cell_type": "code",
   "execution_count": 771,
   "metadata": {},
   "outputs": [],
   "source": [
    "mutable struct TreeNode\n",
    "    \"\"\"\n",
    "    Class for a tree node, contains all its children and the indices of the edges on the path from the root to this node.\n",
    "    \"\"\"\n",
    "    m_tree        # all children\n",
    "    m_edgeIdxList # the indices of the edges on the path from the root to this node\n",
    "end"
   ]
  },
  {
   "cell_type": "code",
   "execution_count": 862,
   "metadata": {},
   "outputs": [
    {
     "data": {
      "text/plain": [
       "BFS (generic function with 1 method)"
      ]
     },
     "execution_count": 862,
     "metadata": {},
     "output_type": "execute_result"
    }
   ],
   "source": [
    "function BFS(T, edgeNum)\n",
    "    \"\"\"\n",
    "    Function to create a dictionary of tree edge indices and levels. The indices of the edges start from 0, increase from left to right, top to down.\n",
    "    :param T: A treenode object\n",
    "    :param edgeNum: # of edges in each level\n",
    "    :return: A dictionary\n",
    "    \"\"\"\n",
    "    verbose = false\n",
    "    verboseprintln(x) = verbose ? println(x) : 0\n",
    "    \n",
    "    nodeDict = Dict()\n",
    "    levelDict = Dict()\n",
    "    for leaf in flatten_all(T[1].m_tree)\n",
    "        verboseprintln(\"$leaf, type: $(typeof(string(leaf))), \")\n",
    "        nodeDict[string(leaf)] = []\n",
    "    end\n",
    "\n",
    "    verboseprintln(\"\\n\\nT: $T, edgeNum: $edgeNum\")\n",
    "    verboseprintln(\"nodeDict: $nodeDict\\n\\n\")\n",
    "    verboseprintln(typeof(collect(keys(nodeDict))))\n",
    "    leafNodeList = sort(collect(keys(nodeDict)))\n",
    "    verboseprintln(\"leafNodeList: $leafNodeList\\n\\n\")\n",
    "    anceEdge = 0\n",
    "\n",
    "    for d in 1:length(edgeNum)\n",
    "        # For each level\n",
    "        \n",
    "        verboseprintln(\"d: $d\")\n",
    "        T2 = []\n",
    "        siblEdge = 0\n",
    "\n",
    "        # Count edges located on previous level\n",
    "        if d > 1\n",
    "            anceEdge += edgeNum[d - 1]\n",
    "        end\n",
    "        verboseprintln(\"anceEdge: $anceEdge\")\n",
    "\n",
    "        \n",
    "        for i in 1:length(T)\n",
    "            # For each child tree node\n",
    "            \n",
    "            verboseprintln(\"i: $i, T[$i].m_tree: $(T[i].m_tree), l: $(length(flatten_all(T[i].m_tree)))\")\n",
    "            if length(flatten_all(T[i].m_tree)) > 1\n",
    "                # If T[i] is an internal node\n",
    "                \n",
    "                for j in 1:length(T[i].m_tree)\n",
    "                    # For each child tree node\n",
    "                    \n",
    "                    verboseprintln(\"j: $j, T[$i].m_tree[$j]: $(T[i].m_tree[j]), l:$(length(flatten_all(T[i].m_tree[j])))\")\n",
    "                    verboseprintln(\"T[$i].m_edgeIdxList, $(T[i].m_edgeIdxList)\")\n",
    "                    if length(flatten_all(T[i].m_tree[j])) >= 1\n",
    "                        # If its child j is an internal node\n",
    "                        \n",
    "                        tEIL = copy(T[i].m_edgeIdxList) # List of edge indices in path from root to T[i]\n",
    "                        verboseprintln(\"tEIL: $tEIL\")\n",
    "                        push!(tEIL, j + siblEdge + anceEdge)\n",
    "                        levelDict[j + siblEdge + anceEdge] = d\n",
    "\n",
    "                        tN = TreeNode(T[i].m_tree[j], tEIL)\n",
    "                        push!(T2, tN)\n",
    "                    end\n",
    "                end\n",
    "\n",
    "                for k in 1:length(T2)\n",
    "                    verboseprintln(\"k: $k\")\n",
    "                    if (length(T2[k].m_tree) == 1 && T2[k].m_tree[1] in leafNodeList)\n",
    "                        nodeDict[T2[k].m_tree[1]] = T2[k].m_edgeIdxList\n",
    "                    end\n",
    "                end\n",
    "#             end\n",
    "#             if length(flatten_all(T[i].m_tree)) > 1\n",
    "                siblEdge += length(T[i].m_tree)\n",
    "            end\n",
    "        end\n",
    "\n",
    "        T = T2\n",
    "    end\n",
    "\n",
    "    nodeLevelDict = Dict(\"nodeDict\" => nodeDict, \"levelDict\" => levelDict)\n",
    "    verboseprintln(\"\\n\")\n",
    "    return nodeLevelDict\n",
    "end"
   ]
  },
  {
   "cell_type": "code",
   "execution_count": 824,
   "metadata": {},
   "outputs": [
    {
     "data": {
      "text/plain": [
       "GetNodesDict (generic function with 1 method)"
      ]
     },
     "execution_count": 824,
     "metadata": {},
     "output_type": "execute_result"
    }
   ],
   "source": [
    "function GetNodesDict(T)\n",
    "    \"\"\"\n",
    "    Combine all auxiliary functions above to get the node levels\n",
    "    :param T: a tree\n",
    "    :return: a dictionary\n",
    "    \"\"\"\n",
    "    if IsNewStructure(T)\n",
    "        T = [NewStructToOld(T)]\n",
    "    elseif length(T) > 1\n",
    "        T = [T]\n",
    "    end\n",
    "    edgeNum = GetEdgeNumEachLevel(T[1])\n",
    "    treeNodeList = [TreeNode(T[1], [])]\n",
    "    return BFS(treeNodeList, edgeNum)\n",
    "end"
   ]
  },
  {
   "cell_type": "code",
   "execution_count": 974,
   "metadata": {
    "scrolled": true
   },
   "outputs": [
    {
     "data": {
      "text/plain": [
       "EdgeWeightMLE (generic function with 10 methods)"
      ]
     },
     "execution_count": 974,
     "metadata": {},
     "output_type": "execute_result"
    }
   ],
   "source": [
    "function compute_negllh(V, data, nodes)\n",
    "    verbose = false\n",
    "    verboseprint(x) = verbose ? println(x) : 0\n",
    "\n",
    "    llh = 0\n",
    "\n",
    "    verboseprint(\"V: $V, nodes: $nodes\")\n",
    "    verboseprint(data)\n",
    "    verboseprint(\"data printed\")\n",
    "    for i in 1:size(data)[1]\n",
    "        inst = data[i, :]\n",
    "\n",
    "        depth = length(nodes[inst[1, :choice]])\n",
    "\n",
    "        temp = 0\n",
    "        verboseprint(\"=== For each level\")\n",
    "        \n",
    "        for j in 1:depth\n",
    "            verboseprint(\"inst: $inst, j: $j\")\n",
    "\n",
    "            V_sij = V[j][nodes[inst[1, :choice]][j]]\n",
    "            choices = []\n",
    "            verboseprint(\"=== For each edge choice in current depth level ===\")\n",
    "            verboseprint(\"inst[1, :choice_set_array]: $(inst[1, :choice_set_array])\")\n",
    "            for c in inst[1, :choice_set_array]\n",
    "                verboseprint(\"c: $c\")\n",
    "                append = false\n",
    "                \n",
    "                if length(nodes[c]) > j - 1 && length(nodes[inst[1, :choice]]) > j - 1\n",
    "                    if j == 1\n",
    "                        verboseprint(\"[Condition] j == 1\")\n",
    "                        append = true\n",
    "                    elseif j > 1\n",
    "                        verboseprint(\"[Condition] j > 1\")\n",
    "                        verboseprint(\"nodes[$c][$(j - 1)]: $(nodes[c][j - 1]), nodes[$(inst[1, :choice])][$(j - 1)]: $(nodes[inst[1, :choice]][j - 1])\")\n",
    "                        if nodes[c][j - 1] == nodes[inst[1, :choice]][j - 1]\n",
    "                            append = true\n",
    "                        end\n",
    "                    end\n",
    "                    if append\n",
    "                        verboseprint(\"nodes[$c][$j]: $(nodes[c][j]) ----------------- appended\")\n",
    "                        push!(choices, nodes[c][j])\n",
    "                    end\n",
    "                end\n",
    "            end\n",
    "\n",
    "            unique!(choices)\n",
    "\n",
    "            choice_sum = 0\n",
    "            for k in choices\n",
    "                choice_sum += exp(V[j][k])\n",
    "            end\n",
    "        \n",
    "            log_term = log(choice_sum)\n",
    "            temp = temp + V_sij - log_term\n",
    "        end\n",
    "            \n",
    "        llh += temp\n",
    "    end\n",
    "\n",
    "    llh = -llh\n",
    "    return llh\n",
    "end\n",
    "\n",
    "function compute_Nf(node_id, data, nodes, level)\n",
    "    verbose = false\n",
    "    verboseprint(x) = verbose ? println(x) : 0\n",
    "    \n",
    "    c_f = []\n",
    "    sij = []\n",
    "    i_list = []\n",
    "\n",
    "    verboseprint(\"=== For each observation\")\n",
    "    for i in 1:size(data)[1]\n",
    "        verboseprint(\"^\" ^ 45 * \" i: $i \" * \"^\" ^ 45)\n",
    "        inst = data[i, :]\n",
    "        depth = level[node_id]\n",
    "        choices = []\n",
    "        verboseprint(\"inst: $inst, node_id: $node_id, depth: $depth\")\n",
    "\n",
    "        for c in inst[1, :choice_set_array]\n",
    "            verboseprint(\".\" ^ 10 * \" item: $c, depth: $depth, choice: $(inst[1, :choice]) \" * \".\" ^ 10)\n",
    "            verboseprint(\"nodes[$c]: $(nodes[c]), nodes[$(inst[1, :choice])]: $(nodes[inst[1, :choice]])\")\n",
    "            verboseprint(\"length(nodes[c]): $(length(nodes[c])), length(nodes[inst[1, :choice]]): $(length(nodes[inst[1, :choice]]))\")\n",
    "            append = false\n",
    "            \n",
    "\n",
    "            if length(nodes[c]) > depth - 1 && length(nodes[inst[1, :choice]]) > depth - 1\n",
    "                if depth == 1\n",
    "                    verboseprint(\"[Condition] depth == 1\")\n",
    "                    append = true\n",
    "                elseif depth > 1\n",
    "                    verboseprint(\"[Condition] depth > 1\")\n",
    "                    verboseprint(\"nodes[$c][$(depth - 1)]: $(nodes[c][depth - 1]), nodes[$(inst[1, :choice])][$(depth - 1)]: $(nodes[inst[1, :choice]][depth - 1])\")\n",
    "                    if nodes[c][depth - 1] == nodes[inst[1, :choice]][depth - 1]\n",
    "                        append = true\n",
    "                    end\n",
    "                end\n",
    "                if append\n",
    "                    verboseprint(\"nodes[$c][$depth]: $(nodes[c][depth]) ----------------- appended\")\n",
    "                    push!(choices, nodes[c][depth])\n",
    "                end\n",
    "            end\n",
    "        end\n",
    "        verboseprint(\".\" ^ 50)\n",
    "        verboseprint(\"choices: $choices, choice: $(inst[1, :choice])\")\n",
    "        verboseprint(\".\" ^ 50)\n",
    "        \n",
    "        unique!(choices)\n",
    "\n",
    "        if length(nodes[inst[1, :choice]]) > depth - 1\n",
    "            choice_made = nodes[inst[1, :choice]][depth]\n",
    "        else\n",
    "            choice_made = -1\n",
    "        end\n",
    "\n",
    "        verboseprint(\"node_id: $node_id\")\n",
    "        verboseprint(\"c_f: $c_f\")\n",
    "        verboseprint(\"choices: $choices\")\n",
    "        verboseprint(\"i_list: $i_list\")\n",
    "        verboseprint(\"i: $i\")\n",
    "        verboseprint(\"sij: $sij\")\n",
    "        verboseprint(\"choice_made: $choice_made\")\n",
    "        if node_id in choices\n",
    "            push!(c_f, choices)\n",
    "            push!(i_list, i)\n",
    "            push!(sij, choice_made)\n",
    "        end\n",
    "    end\n",
    "    verboseprint(\"^\" ^ 75)\n",
    "    verboseprint(\"i_list: $i_list\")\n",
    "\n",
    "    verboseprint(\"sij: $sij, node_id: $node_id\")\n",
    "    if length(sij) == 0\n",
    "        Nf = 0\n",
    "    else\n",
    "        Nf = sum(sij .== node_id)\n",
    "    end\n",
    "\n",
    "    return c_f, sij, Nf, i_list\n",
    "end               \n",
    "\n",
    "function compute_derivative(c_f, Nf, node_id, V, level, i_list=nothing)\n",
    "    verbose = false\n",
    "    verboseprint(x) = verbose ? println(x) : 0\n",
    "\n",
    "    big_sum = 0\n",
    "\n",
    "    verboseprint(\"=== For each observation\")\n",
    "    for i in 1:length(c_f)\n",
    "\n",
    "        small_sum = 0\n",
    "        verboseprint(\"=== For each choice of edge made\")\n",
    "        for j in 1:length(c_f[i])\n",
    "            n = c_f[i][j]\n",
    "            small_sum += exp(V[level[n]][n])\n",
    "        end\n",
    "\n",
    "        inner_term = 1.0 / small_sum\n",
    "        big_sum += inner_term\n",
    "    end\n",
    "\n",
    "    dV = -Nf + exp(V[level[node_id]][node_id]) * big_sum\n",
    "    return dV\n",
    "end\n",
    "\n",
    "function EdgeWeightMLE(data, data_test=nothing, T=nothing, maxiter=5000, lr_init=0.0001, converge_crit=1e-6, processID=-1,\n",
    "                  experimentIdx=-1, name=-1, sampleProp=-1)\n",
    "    verbose = false\n",
    "    verboseprint(x) = verbose ? println(x) : 0\n",
    "    println(\"data: $data\")\n",
    "    if length(T) == 0\n",
    "        return\n",
    "    end\n",
    "    \n",
    "    if length(T) > 1\n",
    "        T = [T]\n",
    "    end\n",
    "\n",
    "    println(\"[MLE Begins] Procees ID: $processID, Experiment ID: $experimentIdx, Tree name: $name, Tree structure: $T, Sample prop: $sampleProp\")\n",
    "\n",
    "    parseDict = GetNodesDict(T)\n",
    "    nodes = parseDict[\"nodeDict\"]\n",
    "    level = parseDict[\"levelDict\"]\n",
    "    nodeNum = length(level)\n",
    "    verboseprint(\"nodes: $nodes\")\n",
    "    verboseprint(\"level: $level\")\n",
    "\n",
    "    V = Dict()\n",
    "    dV = Dict()\n",
    "    \n",
    "    for item in level\n",
    "        verboseprint(item)\n",
    "        k, v = item\n",
    "        verboseprint(\"k: $k, v: $v\")\n",
    "    end\n",
    "    \n",
    "    \n",
    "    for item in level\n",
    "        k, v = item\n",
    "\n",
    "        V[v] = get(V, v, Dict())\n",
    "        V[v][k] = 0\n",
    "        verboseprint(\"V[v]: $(V[v])\")\n",
    "\n",
    "        dV[v] = get(dV, v, Dict())\n",
    "        dV[v][k] = 1\n",
    "        verboseprint(\"dV[v]: $(dV[v])\")\n",
    "    end\n",
    "\n",
    "    llh_history = []\n",
    "    push!(llh_history, -1 * Inf)\n",
    "\n",
    "    iteration = 1\n",
    "\n",
    "    dV_list = flatten_dict(dV)\n",
    "\n",
    "    start_time = Dates.now()\n",
    "    isMaxIter = false\n",
    "\n",
    "    while (sum(abs.(dV_list) .> 1e-4) > 0) && (iteration < maxiter)\n",
    "        println(\"iteration: $iteration\")\n",
    "        lr = lr_init / sqrt(iteration)\n",
    "\n",
    "        verboseprint(\"=== For each edge, nodeNum: $nodeNum\")\n",
    "        V_prev = copy(V)\n",
    "        for node in 1:nodeNum\n",
    "            verboseprint('-' ^ 50 * \" node: $node, compute_Nf \" * '-' ^ 50)\n",
    "            c_f, sij, Nf, i_list = compute_Nf(node, data, nodes, level)\n",
    "            verboseprint('-' ^ 60 * \" end compute_Nf \" * '-' ^ 60)\n",
    "            dV[level[node]][node] = compute_derivative(c_f, Nf, node, V, level, i_list)\n",
    "            V[level[node]][node] = V[level[node]][node] - lr * dV[level[node]][node]\n",
    "        end\n",
    "\n",
    "        llh = compute_negllh(V, data, nodes) / size(data)[1]\n",
    "        push!(llh_history, llh)\n",
    "        if iteration % 100 == 0\n",
    "            println(\"[MLE in Progress] Procees ID: $processID, Experiment ID: $experimentIdx, Tree name: $name, Tree structure: $T, Sample prop: $sampleProp, Iteration ID: $iteration / $maxiter, LLH: $llh\")\n",
    "        end\n",
    "\n",
    "        dV_list = flatten_dict(dV)\n",
    "        iteration += 1\n",
    "        if abs(llh_history[iteration - 1] - llh_history[iteration]) < converge_crit\n",
    "            println(\"[Converge] Procees ID: $processID, Experiment ID: $experimentIdx, Tree name: $name, Tree structure: $T, Sample prop: $sampleProp, Iteration ID: $iteration / $maxiter, LLH: $llh\")\n",
    "            isMaxIter = true\n",
    "            break\n",
    "        end\n",
    "    end\n",
    "\n",
    "    end_time = Dates.now()\n",
    "    if !(isMaxIter)\n",
    "        println(\"[Max Iter] Procees ID: $processID, Experiment ID: $experimentIdx, Tree name: $name, Tree structure: $T, Sample prop: $sampleProp, Iteration ID: $iteration / $maxiter, LLH: $(llh_history[end])\")\n",
    "    end\n",
    "\n",
    "    println(\"MLE total time: $(Dates.canonicalize(Dates.CompoundPeriod(end_time - start_time)))\")\n",
    "\n",
    "    llh_test = 0\n",
    "\n",
    "    if !(data_test == nothing)\n",
    "        llh_test = compute_negllh(V, data_test, nodes) / size(data_test)[1]\n",
    "    end\n",
    "\n",
    "    return V, dV, llh_history, llh_test\n",
    "end"
   ]
  },
  {
   "cell_type": "code",
   "execution_count": 864,
   "metadata": {},
   "outputs": [
    {
     "data": {
      "text/plain": [
       "1-element Array{Array{Array{Array{String,1},1},1},1}:\n",
       " [[[\"A\"], [\"B\"], [\"C\"]], [[\"D\"], [\"E\"]]]"
      ]
     },
     "execution_count": 864,
     "metadata": {},
     "output_type": "execute_result"
    }
   ],
   "source": [
    "d5Tree = [[[[\"A\"], [\"B\"], [\"C\"]], [[\"D\"], [\"E\"]]]]"
   ]
  },
  {
   "cell_type": "code",
   "execution_count": null,
   "metadata": {},
   "outputs": [],
   "source": []
  },
  {
   "cell_type": "code",
   "execution_count": 980,
   "metadata": {
    "scrolled": false
   },
   "outputs": [
    {
     "name": "stdout",
     "output_type": "stream",
     "text": [
      "data: 2000×4 DataFrame. Omitted printing of 1 columns\n",
      "│ Row  │      │ choice_set                │ choice │\n",
      "├──────┼──────┼───────────────────────────┼────────┤\n",
      "│ 1    │ 0    │ ('A', 'D')                │ D      │\n",
      "│ 2    │ 1    │ ('A', 'C')                │ A      │\n",
      "│ 3    │ 2    │ ('A', 'E')                │ A      │\n",
      "│ 4    │ 3    │ ('A', 'C')                │ C      │\n",
      "│ 5    │ 4    │ ('A', 'B', 'C', 'D', 'E') │ C      │\n",
      "│ 6    │ 5    │ ('A', 'B', 'C', 'D', 'E') │ A      │\n",
      "│ 7    │ 6    │ ('B', 'C', 'E')           │ B      │\n",
      "│ 8    │ 7    │ ('A', 'B', 'C', 'D', 'E') │ E      │\n",
      "│ 9    │ 8    │ ('A', 'B', 'C', 'D', 'E') │ E      │\n",
      "│ 10   │ 9    │ ('A', 'B', 'C', 'E')      │ A      │\n",
      "│ 11   │ 10   │ ('A', 'C', 'D')           │ C      │\n",
      "⋮\n",
      "│ 1989 │ 1988 │ ('A', 'E')                │ A      │\n",
      "│ 1990 │ 1989 │ ('A', 'B', 'C', 'D', 'E') │ E      │\n",
      "│ 1991 │ 1990 │ ('A', 'B', 'C', 'E')      │ C      │\n",
      "│ 1992 │ 1991 │ ('B', 'E')                │ B      │\n",
      "│ 1993 │ 1992 │ ('C', 'D')                │ C      │\n",
      "│ 1994 │ 1993 │ ('A', 'C', 'D')           │ C      │\n",
      "│ 1995 │ 1994 │ ('A', 'B', 'C', 'D')      │ C      │\n",
      "│ 1996 │ 1995 │ ('A', 'C')                │ C      │\n",
      "│ 1997 │ 1996 │ ('A', 'B')                │ B      │\n",
      "│ 1998 │ 1997 │ ('A', 'B', 'C', 'D', 'E') │ E      │\n",
      "│ 1999 │ 1998 │ ('B', 'E')                │ E      │\n",
      "│ 2000 │ 1999 │ ('B', 'C', 'D', 'E')      │ D      │\n",
      "[MLE Begins] Procees ID: -1, Experiment ID: -1, Tree name: -1, Tree structure: Array{Array{Array{String,1},1},1}[[[[\"A\"], [\"B\"], [\"C\"]], [[\"D\"], [\"E\"]]]], Sample prop: -1\n",
      "iteration: 1\n",
      "iteration: 2\n",
      "iteration: 3\n",
      "iteration: 4\n",
      "[Max Iter] Procees ID: -1, Experiment ID: -1, Tree name: -1, Tree structure: Array{Array{Array{String,1},1},1}[[[[\"A\"], [\"B\"], [\"C\"]], [[\"D\"], [\"E\"]]]], Sample prop: -1, Iteration ID: 5 / 5, LLH: 1.1147109589761963\n",
      "MLE total time: 13 minutes, 50 seconds, 977 milliseconds\n",
      "831.036104 seconds (1.08 G allocations: 41.832 GiB, 5.67% gc time)\n"
     ]
    },
    {
     "data": {
      "text/plain": [
       "(Dict{Any,Any}(2=>Dict{Any,Any}(7=>0.0350187,4=>-0.00234931,3=>-0.0217388,5=>0.0238543,6=>-0.0354093),1=>Dict{Any,Any}(2=>0.0437953,1=>-0.0453339)), Dict{Any,Any}(2=>Dict{Any,Any}(7=>-121.576,4=>8.10294,3=>76.1092,5=>-83.6695,6=>122.472),1=>Dict{Any,Any}(2=>-141.548,1=>144.761)), Any[-Inf, 1.12272, 1.11934, 1.11679, 1.11471], 0)"
      ]
     },
     "execution_count": 980,
     "metadata": {},
     "output_type": "execute_result"
    }
   ],
   "source": [
    "@time V, dV, llh_history, llh_test = EdgeWeightMLE(head(d5_test, 2000), nothing, d5Tree, 5)"
   ]
  },
  {
   "cell_type": "code",
   "execution_count": 968,
   "metadata": {},
   "outputs": [
    {
     "data": {
      "text/plain": [
       "Dict{Any,Any} with 2 entries:\n",
       "  2 => Dict{Any,Any}(7=>0.0,4=>-9.28129e-5,3=>-9.27979e-5,5=>0.000185605,6=>0.0)\n",
       "  1 => Dict{Any,Any}(2=>-0.000139194,1=>0.000139202)"
      ]
     },
     "metadata": {},
     "output_type": "display_data"
    },
    {
     "data": {
      "text/plain": [
       "Dict{Any,Any} with 2 entries:\n",
       "  2 => Dict{Any,Any}(7=>0.0,4=>0.33331,3=>0.333194,5=>-0.66649,6=>0.0)\n",
       "  1 => Dict{Any,Any}(2=>0.49981,1=>-0.499829)"
      ]
     },
     "metadata": {},
     "output_type": "display_data"
    },
    {
     "data": {
      "text/plain": [
       "5-element Array{Any,1}:\n",
       " -Inf                 \n",
       "    0.9128463071036659\n",
       "    0.9128298131805419\n",
       "    0.9128163481913496\n",
       "    0.9128046887847979"
      ]
     },
     "metadata": {},
     "output_type": "display_data"
    },
    {
     "data": {
      "text/plain": [
       "0"
      ]
     },
     "metadata": {},
     "output_type": "display_data"
    }
   ],
   "source": [
    "display(V)\n",
    "display(dV)\n",
    "display(llh_history)\n",
    "display(llh_test)"
   ]
  },
  {
   "cell_type": "code",
   "execution_count": null,
   "metadata": {},
   "outputs": [],
   "source": []
  },
  {
   "cell_type": "code",
   "execution_count": null,
   "metadata": {},
   "outputs": [],
   "source": []
  },
  {
   "cell_type": "code",
   "execution_count": null,
   "metadata": {},
   "outputs": [],
   "source": []
  },
  {
   "cell_type": "code",
   "execution_count": null,
   "metadata": {},
   "outputs": [],
   "source": []
  },
  {
   "cell_type": "code",
   "execution_count": null,
   "metadata": {},
   "outputs": [],
   "source": []
  },
  {
   "cell_type": "code",
   "execution_count": null,
   "metadata": {},
   "outputs": [],
   "source": []
  },
  {
   "cell_type": "code",
   "execution_count": null,
   "metadata": {},
   "outputs": [],
   "source": []
  },
  {
   "cell_type": "code",
   "execution_count": null,
   "metadata": {},
   "outputs": [],
   "source": []
  }
 ],
 "metadata": {
  "kernelspec": {
   "display_name": "Julia 1.0.0",
   "language": "julia",
   "name": "julia-1.0"
  },
  "language_info": {
   "file_extension": ".jl",
   "mimetype": "application/julia",
   "name": "julia",
   "version": "1.0.0"
  }
 },
 "nbformat": 4,
 "nbformat_minor": 2
}
